{
 "cells": [
  {
   "cell_type": "code",
   "execution_count": 2,
   "id": "382dca66-31db-4b93-80da-b2add6526c87",
   "metadata": {},
   "outputs": [
    {
     "name": "stdout",
     "output_type": "stream",
     "text": [
      "Title of the document: \n",
      "<title> Python for Data Science </title>\n"
     ]
    }
   ],
   "source": [
    "from bs4 import BeautifulSoup\n",
    "html_doc = \"\"\"\n",
    "<html>\n",
    "    <head>\n",
    "        <meta http-equiv=\"Content-Type\" content=\"text/html;charset=iso-8859-1\">\n",
    "        <title> Python for Data Science </title>\n",
    "    </head>\n",
    "    <body>\n",
    "        <h2> This is an example of HTMl page </h2>\n",
    "        <p>\n",
    "            Hello There\n",
    "        <p/>\n",
    "        <p>\n",
    "            <a href=\"https://www.adit.ac.in/\">ADIT</a>\n",
    "        </p>\n",
    "    </body>\n",
    "</html>\n",
    "\"\"\"\n",
    "soup = BeautifulSoup(html_doc, 'html.parser')\n",
    "print(\"Title of the document: \")\n",
    "print(soup.find(\"title\"))"
   ]
  },
  {
   "cell_type": "code",
   "execution_count": 3,
   "id": "65f06f4d-1b82-493e-b5fd-0241b4f78dbd",
   "metadata": {},
   "outputs": [
    {
     "name": "stdout",
     "output_type": "stream",
     "text": [
      "3\n",
      "33\n"
     ]
    }
   ],
   "source": [
    "print(len(soup.find_all(\"p\")))\n",
    "print(len(soup.find('h2').text))"
   ]
  },
  {
   "cell_type": "code",
   "execution_count": 4,
   "id": "5a1a21dc-32c4-47c8-9519-c33f46aaaa49",
   "metadata": {},
   "outputs": [
    {
     "name": "stdout",
     "output_type": "stream",
     "text": [
      "href of the first <a> tag:\n",
      "https://www.adit.ac.in/\n"
     ]
    }
   ],
   "source": [
    "soup = BeautifulSoup(html_doc,'html.parser')\n",
    "print(\"href of the first <a> tag:\")\n",
    "print(soup.find('a').attrs['href'])"
   ]
  },
  {
   "cell_type": "code",
   "execution_count": 5,
   "id": "39ef739c-5d0f-4961-948b-844dba2f2540",
   "metadata": {},
   "outputs": [
    {
     "name": "stdout",
     "output_type": "stream",
     "text": [
      "<a href=\"https://www.adit.ac.in/\">ADIT</a>\n"
     ]
    }
   ],
   "source": [
    "print(soup.find(href =\"https://www.adit.ac.in/\"))"
   ]
  },
  {
   "cell_type": "code",
   "execution_count": 6,
   "id": "6de3f195-8bc1-4085-bff2-5ae7cef552a6",
   "metadata": {},
   "outputs": [
    {
     "name": "stdout",
     "output_type": "stream",
     "text": [
      "Opened databse successfully\n",
      "Table created successfully\n"
     ]
    }
   ],
   "source": [
    "import sqlite3\n",
    "\n",
    "conn = sqlite3.connect('Education.db')\n",
    "print(\"Opened databse successfully\")\n",
    "print(\"Table created successfully\")\n",
    "conn.close()"
   ]
  },
  {
   "cell_type": "code",
   "execution_count": null,
   "id": "8a65363d-5ebd-4351-bd3b-9bca28d77081",
   "metadata": {},
   "outputs": [],
   "source": [
    "import sqlite3\n",
    "\n",
    "# Connect to the database\n",
    "conn = sqlite3.connect('Education.db')\n",
    "print(\"Opened database successfully\")\n",
    "\n",
    "# Corrected INSERT statements\n",
    "conn.execute(\"INSERT INTO STUDENT1 (ID, NAME, DEP, GENDER, MARKS) VALUES (1, 'Herin', 'CP', 'M', 201)\")\n",
    "conn.execute(\"INSERT INTO STUDENT1 (ID, NAME, DEP, GENDER, MARKS) VALUES (2, 'Darshan', 'IT', 'M', 150)\")\n",
    "\n",
    "# Commit the changes to the database\n",
    "conn.commit()\n",
    "print(\"Records created successfully\")\n",
    "\n",
    "# Close the connection\n",
    "conn.close()"
   ]
  },
  {
   "cell_type": "code",
   "execution_count": null,
   "id": "205c284b-229b-4e2c-86a7-7c989852a43a",
   "metadata": {},
   "outputs": [],
   "source": [
    "import sqlite3\n",
    "\n",
    "conn = sqlite3.connect('Education.db')\n",
    "print (\"Opened database successfully\")\n",
    "\n",
    "cursor = conn.execute(\"SELECT ID, NAME, DEP, MARKS from STUDENT1)\")\n",
    "for row in cursor:\n",
    "    print (\"ID = \", row[0])\n",
    "    print (\"NAME = \", row[1])\n",
    "    print (\"DEP = \", row[2])\n",
    "    print (\"MARKS = \", row[3], \"\\n\")\n",
    "\n",
    "print (\"Operation done successfully\")\n",
    "conn.close()"
   ]
  },
  {
   "cell_type": "code",
   "execution_count": null,
   "id": "5fecaba1-0cb6-4314-adcf-a9c5e5e7d0d1",
   "metadata": {},
   "outputs": [],
   "source": [
    "import sqlite3\n",
    "\n",
    "conn = sqlite3.connect('Education.db')\n",
    "print(\"Opened database successfully\")\n",
    "\n",
    "conn.execute(\"UPDATE STUDENT1 set MARKS = 250 where ID = 2 \")\n",
    "conn.commit()\n",
    "print (\"Total number of rows updated :\",conn.total_changes)\n",
    "\n",
    "cursor= conn.execute\"(SELECT ID ,MARKS from STUDENT1)\" \n",
    "    for row in cursor:\n",
    "        print (\"ID = \", row[0])\n",
    "        print( \"MARKS = ,\" row[1], \"\\n\")\n",
    "\n",
    "print (\"Operation done successfully\")\n",
    "conn.close()"
   ]
  }
 ],
 "metadata": {
  "kernelspec": {
   "display_name": "Python 3 (ipykernel)",
   "language": "python",
   "name": "python3"
  },
  "language_info": {
   "codemirror_mode": {
    "name": "ipython",
    "version": 3
   },
   "file_extension": ".py",
   "mimetype": "text/x-python",
   "name": "python",
   "nbconvert_exporter": "python",
   "pygments_lexer": "ipython3",
   "version": "3.12.4"
  }
 },
 "nbformat": 4,
 "nbformat_minor": 5
}
