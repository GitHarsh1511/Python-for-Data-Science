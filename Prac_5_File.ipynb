{
 "cells": [
  {
   "cell_type": "code",
   "execution_count": 1,
   "id": "980f527d-7382-49ff-8392-5ba7b9c3b598",
   "metadata": {},
   "outputs": [
    {
     "name": "stdout",
     "output_type": "stream",
     "text": [
      " The array 'rank' consists of elements :  ['rank1' 'rank2' 'rank3' 'rank4' 'rank5']\n"
     ]
    }
   ],
   "source": [
    "# Creating an array 'rank'\n",
    "import pandas as pd\n",
    "import numpy as np\n",
    "rank = np.array(['rank1', 'rank2', 'rank3', 'rank4', 'rank5'])\n",
    "print(\" The array 'rank' consists of elements : \", rank)"
   ]
  },
  {
   "cell_type": "code",
   "execution_count": 2,
   "id": "e4d5c49a-3a11-4e6e-913c-e5acc23fbdcb",
   "metadata": {},
   "outputs": [
    {
     "name": "stdout",
     "output_type": "stream",
     "text": [
      "A dictionary 'exam_data_array' is given as follows :-  {'Name': ['Herin', 'Darshan', 'Jainik', 'KD', 'James'], 'Score': [20, 17, 18, 23, 19], 'Attempts': [2, 1, 3, 2, 4], 'Qualify': ['yes', 'yes', 'no', 'yes', 'no']}\n"
     ]
    }
   ],
   "source": [
    "# Creating a dictionary 'exam_data_array'\n",
    "exam_data_array = {\n",
    "    \"Name\" : [\"Herin\", \"Darshan\", \"Jainik\", \"KD\",\"James\"],\n",
    "    \"Score\" : [ 20, 17, 18, 23, 19 ],\n",
    "    \"Attempts\" : [ 2, 1, 3, 2, 4 ],\n",
    "    \"Qualify\" : [ \"yes\", \"yes\", \"no\", \"yes\", \"no\" ]\n",
    "}\n",
    "print(\"A dictionary 'exam_data_array' is given as follows :- \",exam_data_array)"
   ]
  },
  {
   "cell_type": "code",
   "execution_count": 5,
   "id": "8bdc2101-26c9-4510-be84-fe8334fa8faa",
   "metadata": {},
   "outputs": [
    {
     "name": "stdout",
     "output_type": "stream",
     "text": [
      "A dataframe 'exam' is given as :-            Name  Score  Attempts Qualify\n",
      "rank1    Herin     20         2     yes\n",
      "rank2  Darshan     17         1     yes\n",
      "rank3   Jainik     18         3      no\n",
      "rank4       KD     23         2     yes\n",
      "rank5    James     19         4      no\n"
     ]
    }
   ],
   "source": [
    "# Creating a dataframe 'exam',having data from exam_data_array\n",
    "# and array rank as its label\n",
    "exam = pd.DataFrame( exam_data_array, index = rank)\n",
    "print(\"A dataframe 'exam' is given as :- \",exam)"
   ]
  },
  {
   "cell_type": "code",
   "execution_count": 6,
   "id": "e90cb6d6-e88e-4f8b-b3fc-59448d40c878",
   "metadata": {},
   "outputs": [
    {
     "name": "stdout",
     "output_type": "stream",
     "text": [
      "Index(['rank1', 'rank2', 'rank3', 'rank4', 'rank5'], dtype='object')\n",
      "\n",
      " Index(['Name', 'Score', 'Attempts', 'Qualify'], dtype='object')\n",
      "\n",
      " Name        object\n",
      "Score        int64\n",
      "Attempts     int64\n",
      "Qualify     object\n",
      "dtype: object\n"
     ]
    }
   ],
   "source": [
    "# Summary of basic information and its data\n",
    "print(exam.index)\n",
    "print(\"\\n\", exam.columns)\n",
    "print(\"\\n\", exam.dtypes)"
   ]
  },
  {
   "cell_type": "code",
   "execution_count": 7,
   "id": "f084f0e2-4f5a-4b95-8452-b35eb5d59350",
   "metadata": {},
   "outputs": [
    {
     "name": "stdout",
     "output_type": "stream",
     "text": [
      "rank1      Herin\n",
      "rank2    Darshan\n",
      "rank3     Jainik\n",
      "rank4         KD\n",
      "rank5      James\n",
      "Name: Name, dtype: object\n"
     ]
    }
   ],
   "source": [
    "print(exam[\"Name\"])"
   ]
  },
  {
   "cell_type": "code",
   "execution_count": 8,
   "id": "84268252-d174-4efb-ab28-45a228c69f7a",
   "metadata": {},
   "outputs": [
    {
     "name": "stdout",
     "output_type": "stream",
     "text": [
      "          Name  Score\n",
      "rank1    Herin     20\n",
      "rank2  Darshan     17\n",
      "rank3   Jainik     18\n",
      "rank4       KD     23\n",
      "rank5    James     19\n"
     ]
    }
   ],
   "source": [
    "print(exam[[\"Name\", \"Score\"]])"
   ]
  },
  {
   "cell_type": "code",
   "execution_count": 9,
   "id": "8cc696c0-2ffe-4878-9460-607caf7e4a2e",
   "metadata": {},
   "outputs": [
    {
     "name": "stdout",
     "output_type": "stream",
     "text": [
      "<bound method NDFrame.describe of           Name  Score  Attempts Qualify\n",
      "rank1    Herin     20         2     yes\n",
      "rank2  Darshan     17         1     yes\n",
      "rank3   Jainik     18         3      no\n",
      "rank4       KD     23         2     yes\n",
      "rank5    James     19         4      no>\n"
     ]
    }
   ],
   "source": [
    "print(exam.describe)"
   ]
  },
  {
   "cell_type": "code",
   "execution_count": 10,
   "id": "12385ed9-7758-4994-9f1e-51cbe8ceb2e4",
   "metadata": {},
   "outputs": [
    {
     "name": "stdout",
     "output_type": "stream",
     "text": [
      "          Name  Score  Attempts Qualify\n",
      "rank1    Herin     20         2     yes\n",
      "rank2  Darshan     17         1     yes\n",
      "rank3   Jainik     18         3      no\n"
     ]
    }
   ],
   "source": [
    "print(exam.head(3))"
   ]
  },
  {
   "cell_type": "code",
   "execution_count": 11,
   "id": "ebda3ddf-7753-493c-ab40-d354e337c324",
   "metadata": {},
   "outputs": [
    {
     "name": "stdout",
     "output_type": "stream",
     "text": [
      "         Name  Score  Attempts Qualify\n",
      "rank3  Jainik     18         3      no\n",
      "rank4      KD     23         2     yes\n",
      "rank5   James     19         4      no\n"
     ]
    }
   ],
   "source": [
    "print(exam.tail(3))"
   ]
  },
  {
   "cell_type": "code",
   "execution_count": 12,
   "id": "4c69ea86-1139-4fac-a7c3-4d85ed651c28",
   "metadata": {},
   "outputs": [
    {
     "name": "stdout",
     "output_type": "stream",
     "text": [
      "          Name  Score  Attempts Qualify\n",
      "rank1    Herin     20         2     yes\n",
      "rank2  Darshan     17         1     yes\n",
      "rank3   Jainik     18         3      no\n",
      "rank5    James     19         4      no\n"
     ]
    }
   ],
   "source": [
    "print(exam.loc[(exam[\"Score\"] >= 15) & (exam[\"Score\"] <= 20 )])\n",
    "# Other method is : print( exam[\"Score\"].between( 15,20 ) )"
   ]
  },
  {
   "cell_type": "code",
   "execution_count": 13,
   "id": "ff9c5061-61ff-446b-bd60-6a782a71c46f",
   "metadata": {},
   "outputs": [
    {
     "name": "stdout",
     "output_type": "stream",
     "text": [
      "          Name  Score  Attempts Qualify\n",
      "rank2  Darshan     17         1     yes\n",
      "rank3   Jainik     18         3      no\n",
      "rank5    James     19         4      no\n",
      "rank1    Herin     20         2     yes\n",
      "rank4       KD     23         2     yes\n",
      "          Name  Score  Attempts Qualify\n",
      "rank4       KD     23         2     yes\n",
      "rank5    James     19         4      no\n",
      "rank3   Jainik     18         3      no\n",
      "rank1    Herin     20         2     yes\n",
      "rank2  Darshan     17         1     yes\n"
     ]
    }
   ],
   "source": [
    "print( exam.sort_values( [\"Score\"] ) )\n",
    "print( exam.sort_values( [\"Name\"], ascending = False ) )\n",
    "# print( exam.sort_values( by=[\"Score\",\"Name\"], ascending = [True, False] ))"
   ]
  },
  {
   "cell_type": "code",
   "execution_count": 14,
   "id": "86244af3-c3ec-42c1-bf88-6eebeaa5a37c",
   "metadata": {},
   "outputs": [
    {
     "data": {
      "text/html": [
       "<div>\n",
       "<style scoped>\n",
       "    .dataframe tbody tr th:only-of-type {\n",
       "        vertical-align: middle;\n",
       "    }\n",
       "\n",
       "    .dataframe tbody tr th {\n",
       "        vertical-align: top;\n",
       "    }\n",
       "\n",
       "    .dataframe thead th {\n",
       "        text-align: right;\n",
       "    }\n",
       "</style>\n",
       "<table border=\"1\" class=\"dataframe\">\n",
       "  <thead>\n",
       "    <tr style=\"text-align: right;\">\n",
       "      <th></th>\n",
       "      <th>Name</th>\n",
       "      <th>Score</th>\n",
       "      <th>Attempts</th>\n",
       "      <th>Qualify</th>\n",
       "    </tr>\n",
       "  </thead>\n",
       "  <tbody>\n",
       "    <tr>\n",
       "      <th>rank1</th>\n",
       "      <td>Herin</td>\n",
       "      <td>20</td>\n",
       "      <td>2</td>\n",
       "      <td>True</td>\n",
       "    </tr>\n",
       "    <tr>\n",
       "      <th>rank2</th>\n",
       "      <td>Darshan</td>\n",
       "      <td>17</td>\n",
       "      <td>1</td>\n",
       "      <td>True</td>\n",
       "    </tr>\n",
       "    <tr>\n",
       "      <th>rank3</th>\n",
       "      <td>Jainik</td>\n",
       "      <td>18</td>\n",
       "      <td>3</td>\n",
       "      <td>False</td>\n",
       "    </tr>\n",
       "    <tr>\n",
       "      <th>rank4</th>\n",
       "      <td>KD</td>\n",
       "      <td>23</td>\n",
       "      <td>2</td>\n",
       "      <td>True</td>\n",
       "    </tr>\n",
       "    <tr>\n",
       "      <th>rank5</th>\n",
       "      <td>James</td>\n",
       "      <td>19</td>\n",
       "      <td>4</td>\n",
       "      <td>False</td>\n",
       "    </tr>\n",
       "  </tbody>\n",
       "</table>\n",
       "</div>"
      ],
      "text/plain": [
       "          Name  Score  Attempts Qualify\n",
       "rank1    Herin     20         2    True\n",
       "rank2  Darshan     17         1    True\n",
       "rank3   Jainik     18         3   False\n",
       "rank4       KD     23         2    True\n",
       "rank5    James     19         4   False"
      ]
     },
     "execution_count": 14,
     "metadata": {},
     "output_type": "execute_result"
    }
   ],
   "source": [
    "exam.replace( {\"Qualify\" : \"yes\"}, \"True\", inplace = True )\n",
    "exam.replace( {\"Qualify\" : \"no\" }, \"False\", inplace = True )\n",
    "exam\n",
    "# print( exam[\"Qaulify\"].rename( {\"yes\" : \"True\", \"no\" : \"False\"}, axis = \"rows\")) # df = pd.DataFrame()\n",
    "# df = exam['Qualify'].map( {'yes' : 'True', 'no' : 'False'} )\n",
    "# print( df )"
   ]
  },
  {
   "cell_type": "code",
   "execution_count": 15,
   "id": "33f584a0-f83f-490c-a7bb-28571aa3866f",
   "metadata": {},
   "outputs": [
    {
     "name": "stdout",
     "output_type": "stream",
     "text": [
      "       Score Qualify\n",
      "rank1     20    True\n",
      "rank3     18   False\n",
      "rank5     19   False\n"
     ]
    }
   ],
   "source": [
    "print(\texam.iloc[ 0::2, [1,3] ] )"
   ]
  },
  {
   "cell_type": "code",
   "execution_count": 16,
   "id": "e8725a62-e53e-4ade-8746-cd725fc44960",
   "metadata": {},
   "outputs": [
    {
     "name": "stdout",
     "output_type": "stream",
     "text": [
      "          Name  Score  Attempts Qualify\n",
      "rank2  Darshan     17         1    True\n"
     ]
    }
   ],
   "source": [
    "print(exam.loc[(exam[\"Attempts\"]< 2) & (exam[\"Score\"] > 15 )])"
   ]
  },
  {
   "cell_type": "code",
   "execution_count": 17,
   "id": "bfb4f8e7-6031-477d-a45c-573dc069669f",
   "metadata": {},
   "outputs": [
    {
     "name": "stdout",
     "output_type": "stream",
     "text": [
      "          Name  Score  Attempts Qualify\n",
      "rank1    Herin     20         2    True\n",
      "rank2  Darshan     17         1    True\n",
      "rank3   Jainik     18         3   False\n",
      "rank4       KD     23         2    True\n",
      "rank5   Suresh     19         4   False\n"
     ]
    },
    {
     "name": "stderr",
     "output_type": "stream",
     "text": [
      "C:\\Users\\Administrator\\AppData\\Local\\Temp\\ipykernel_77820\\382977634.py:1: FutureWarning: A value is trying to be set on a copy of a DataFrame or Series through chained assignment using an inplace method.\n",
      "The behavior will change in pandas 3.0. This inplace method will never work because the intermediate object on which we are setting values always behaves as a copy.\n",
      "\n",
      "For example, when doing 'df[col].method(value, inplace=True)', try using 'df.method({col: value}, inplace=True)' or df[col] = df[col].method(value) instead, to perform the operation inplace on the original object.\n",
      "\n",
      "\n",
      "  exam[\"Name\"].replace( \"James\", \"Suresh\", inplace = True )\n"
     ]
    }
   ],
   "source": [
    "exam[\"Name\"].replace( \"James\", \"Suresh\", inplace = True )\n",
    "print(exam)\n",
    "# exam[\"Name\"] = exam[\"Name\"].replace('James','Suresh')"
   ]
  },
  {
   "cell_type": "code",
   "execution_count": 18,
   "id": "aa8c9d0e-bbca-4d6b-89c2-daf2c0b634d6",
   "metadata": {},
   "outputs": [
    {
     "name": "stdout",
     "output_type": "stream",
     "text": [
      "12\n"
     ]
    }
   ],
   "source": [
    "print(exam[\"Attempts\"].sum())"
   ]
  },
  {
   "cell_type": "code",
   "execution_count": 19,
   "id": "0209c1d1-3a3d-48d1-804a-33a3de16a173",
   "metadata": {},
   "outputs": [
    {
     "data": {
      "text/html": [
       "<div>\n",
       "<style scoped>\n",
       "    .dataframe tbody tr th:only-of-type {\n",
       "        vertical-align: middle;\n",
       "    }\n",
       "\n",
       "    .dataframe tbody tr th {\n",
       "        vertical-align: top;\n",
       "    }\n",
       "\n",
       "    .dataframe thead th {\n",
       "        text-align: right;\n",
       "    }\n",
       "</style>\n",
       "<table border=\"1\" class=\"dataframe\">\n",
       "  <thead>\n",
       "    <tr style=\"text-align: right;\">\n",
       "      <th></th>\n",
       "      <th>Name</th>\n",
       "      <th>Score</th>\n",
       "      <th>Attempts</th>\n",
       "      <th>Qualify</th>\n",
       "    </tr>\n",
       "  </thead>\n",
       "  <tbody>\n",
       "    <tr>\n",
       "      <th>rank1</th>\n",
       "      <td>Herin</td>\n",
       "      <td>20</td>\n",
       "      <td>2</td>\n",
       "      <td>True</td>\n",
       "    </tr>\n",
       "    <tr>\n",
       "      <th>rank2</th>\n",
       "      <td>Darshan</td>\n",
       "      <td>17</td>\n",
       "      <td>1</td>\n",
       "      <td>True</td>\n",
       "    </tr>\n",
       "    <tr>\n",
       "      <th>rank3</th>\n",
       "      <td>Jainik</td>\n",
       "      <td>18</td>\n",
       "      <td>3</td>\n",
       "      <td>False</td>\n",
       "    </tr>\n",
       "    <tr>\n",
       "      <th>rank4</th>\n",
       "      <td>KD</td>\n",
       "      <td>23</td>\n",
       "      <td>2</td>\n",
       "      <td>True</td>\n",
       "    </tr>\n",
       "    <tr>\n",
       "      <th>rank5</th>\n",
       "      <td>Suresh</td>\n",
       "      <td>19</td>\n",
       "      <td>4</td>\n",
       "      <td>False</td>\n",
       "    </tr>\n",
       "    <tr>\n",
       "      <th>rank6</th>\n",
       "      <td>Neep</td>\n",
       "      <td>21</td>\n",
       "      <td>3</td>\n",
       "      <td>False</td>\n",
       "    </tr>\n",
       "  </tbody>\n",
       "</table>\n",
       "</div>"
      ],
      "text/plain": [
       "          Name  Score  Attempts Qualify\n",
       "rank1    Herin     20         2    True\n",
       "rank2  Darshan     17         1    True\n",
       "rank3   Jainik     18         3   False\n",
       "rank4       KD     23         2    True\n",
       "rank5   Suresh     19         4   False\n",
       "rank6     Neep     21         3   False"
      ]
     },
     "execution_count": 19,
     "metadata": {},
     "output_type": "execute_result"
    }
   ],
   "source": [
    "df1 = pd.DataFrame({\n",
    "    \"Name\": [\"Neep\"], \n",
    "    \"Score\": [21],\n",
    "    \"Attempts\": [3],\n",
    "    \"Qualify\": [\"False\"]\n",
    "}, index=[\"rank6\"])\n",
    "exam = pd.concat([exam, df1])\n",
    "exam"
   ]
  },
  {
   "cell_type": "code",
   "execution_count": 20,
   "id": "4e9c807b-2451-4336-a402-30daf7a9b458",
   "metadata": {},
   "outputs": [
    {
     "data": {
      "text/html": [
       "<div>\n",
       "<style scoped>\n",
       "    .dataframe tbody tr th:only-of-type {\n",
       "        vertical-align: middle;\n",
       "    }\n",
       "\n",
       "    .dataframe tbody tr th {\n",
       "        vertical-align: top;\n",
       "    }\n",
       "\n",
       "    .dataframe thead th {\n",
       "        text-align: right;\n",
       "    }\n",
       "</style>\n",
       "<table border=\"1\" class=\"dataframe\">\n",
       "  <thead>\n",
       "    <tr style=\"text-align: right;\">\n",
       "      <th></th>\n",
       "      <th>Name</th>\n",
       "      <th>Score</th>\n",
       "      <th>Attempts</th>\n",
       "      <th>Qualify</th>\n",
       "      <th>exam_name</th>\n",
       "    </tr>\n",
       "  </thead>\n",
       "  <tbody>\n",
       "    <tr>\n",
       "      <th>rank1</th>\n",
       "      <td>Herin</td>\n",
       "      <td>20</td>\n",
       "      <td>2</td>\n",
       "      <td>True</td>\n",
       "      <td>Jee</td>\n",
       "    </tr>\n",
       "    <tr>\n",
       "      <th>rank2</th>\n",
       "      <td>Darshan</td>\n",
       "      <td>17</td>\n",
       "      <td>1</td>\n",
       "      <td>True</td>\n",
       "      <td>Neet</td>\n",
       "    </tr>\n",
       "    <tr>\n",
       "      <th>rank3</th>\n",
       "      <td>Jainik</td>\n",
       "      <td>18</td>\n",
       "      <td>3</td>\n",
       "      <td>False</td>\n",
       "      <td>Jee</td>\n",
       "    </tr>\n",
       "    <tr>\n",
       "      <th>rank4</th>\n",
       "      <td>KD</td>\n",
       "      <td>23</td>\n",
       "      <td>2</td>\n",
       "      <td>True</td>\n",
       "      <td>Jee Advanced</td>\n",
       "    </tr>\n",
       "    <tr>\n",
       "      <th>rank5</th>\n",
       "      <td>Suresh</td>\n",
       "      <td>19</td>\n",
       "      <td>4</td>\n",
       "      <td>False</td>\n",
       "      <td>Bitsat</td>\n",
       "    </tr>\n",
       "    <tr>\n",
       "      <th>rank6</th>\n",
       "      <td>Neep</td>\n",
       "      <td>21</td>\n",
       "      <td>3</td>\n",
       "      <td>False</td>\n",
       "      <td>Viteee</td>\n",
       "    </tr>\n",
       "  </tbody>\n",
       "</table>\n",
       "</div>"
      ],
      "text/plain": [
       "          Name  Score  Attempts Qualify     exam_name\n",
       "rank1    Herin     20         2    True           Jee\n",
       "rank2  Darshan     17         1    True          Neet\n",
       "rank3   Jainik     18         3   False           Jee\n",
       "rank4       KD     23         2    True  Jee Advanced\n",
       "rank5   Suresh     19         4   False        Bitsat\n",
       "rank6     Neep     21         3   False        Viteee"
      ]
     },
     "execution_count": 20,
     "metadata": {},
     "output_type": "execute_result"
    }
   ],
   "source": [
    "exam['exam_name'] = ['Jee', 'Neet', 'Jee', 'Jee Advanced', 'Bitsat', 'Viteee' ]\n",
    "exam"
   ]
  },
  {
   "cell_type": "code",
   "execution_count": 21,
   "id": "e3040730-3981-48e1-800b-e02cd45ccbce",
   "metadata": {},
   "outputs": [
    {
     "data": {
      "text/html": [
       "<div>\n",
       "<style scoped>\n",
       "    .dataframe tbody tr th:only-of-type {\n",
       "        vertical-align: middle;\n",
       "    }\n",
       "\n",
       "    .dataframe tbody tr th {\n",
       "        vertical-align: top;\n",
       "    }\n",
       "\n",
       "    .dataframe thead th {\n",
       "        text-align: right;\n",
       "    }\n",
       "</style>\n",
       "<table border=\"1\" class=\"dataframe\">\n",
       "  <thead>\n",
       "    <tr style=\"text-align: right;\">\n",
       "      <th></th>\n",
       "      <th>Name</th>\n",
       "      <th>Score</th>\n",
       "      <th>Attempts</th>\n",
       "      <th>Qualify</th>\n",
       "    </tr>\n",
       "  </thead>\n",
       "  <tbody>\n",
       "    <tr>\n",
       "      <th>rank1</th>\n",
       "      <td>Herin</td>\n",
       "      <td>20</td>\n",
       "      <td>2</td>\n",
       "      <td>True</td>\n",
       "    </tr>\n",
       "    <tr>\n",
       "      <th>rank2</th>\n",
       "      <td>Darshan</td>\n",
       "      <td>17</td>\n",
       "      <td>1</td>\n",
       "      <td>True</td>\n",
       "    </tr>\n",
       "    <tr>\n",
       "      <th>rank3</th>\n",
       "      <td>Jainik</td>\n",
       "      <td>18</td>\n",
       "      <td>3</td>\n",
       "      <td>False</td>\n",
       "    </tr>\n",
       "    <tr>\n",
       "      <th>rank4</th>\n",
       "      <td>KD</td>\n",
       "      <td>23</td>\n",
       "      <td>2</td>\n",
       "      <td>True</td>\n",
       "    </tr>\n",
       "    <tr>\n",
       "      <th>rank5</th>\n",
       "      <td>Suresh</td>\n",
       "      <td>19</td>\n",
       "      <td>4</td>\n",
       "      <td>False</td>\n",
       "    </tr>\n",
       "    <tr>\n",
       "      <th>rank6</th>\n",
       "      <td>Neep</td>\n",
       "      <td>21</td>\n",
       "      <td>3</td>\n",
       "      <td>False</td>\n",
       "    </tr>\n",
       "  </tbody>\n",
       "</table>\n",
       "</div>"
      ],
      "text/plain": [
       "          Name  Score  Attempts Qualify\n",
       "rank1    Herin     20         2    True\n",
       "rank2  Darshan     17         1    True\n",
       "rank3   Jainik     18         3   False\n",
       "rank4       KD     23         2    True\n",
       "rank5   Suresh     19         4   False\n",
       "rank6     Neep     21         3   False"
      ]
     },
     "execution_count": 21,
     "metadata": {},
     "output_type": "execute_result"
    }
   ],
   "source": [
    "exam.drop('exam_name', inplace = True, axis = 1 )\n",
    "exam\n",
    "# Other method is : del exam[\"exam_name\"]"
   ]
  },
  {
   "cell_type": "code",
   "execution_count": 24,
   "id": "2def2947-309b-4753-901a-1b1a3d6a3dfa",
   "metadata": {},
   "outputs": [
    {
     "name": "stdout",
     "output_type": "stream",
     "text": [
      "0    rank1\n",
      "1    rank2\n",
      "2    rank3\n",
      "3    rank4\n",
      "4    rank5\n",
      "dtype: object\n"
     ]
    }
   ],
   "source": [
    "arr = pd.Series(rank)\n",
    "print(arr)"
   ]
  },
  {
   "cell_type": "code",
   "execution_count": 25,
   "id": "983afa7e-7c44-4ba1-a70d-50401b70e6f1",
   "metadata": {},
   "outputs": [
    {
     "name": "stdout",
     "output_type": "stream",
     "text": [
      "Name        [Herin, Darshan, Jainik, KD, James]\n",
      "Score                      [20, 17, 18, 23, 19]\n",
      "Attempts                        [2, 1, 3, 2, 4]\n",
      "Qualify                 [yes, yes, no, yes, no]\n",
      "dtype: object\n"
     ]
    }
   ],
   "source": [
    "s1 = pd.Series ( exam_data_array )\n",
    "print( s1 )"
   ]
  },
  {
   "cell_type": "code",
   "execution_count": 26,
   "id": "1763aa03-4ca4-4db4-8be2-59fb76dfb809",
   "metadata": {},
   "outputs": [
    {
     "name": "stdout",
     "output_type": "stream",
     "text": [
      "rank1      Herin\n",
      "rank2    Darshan\n",
      "rank3     Jainik\n",
      "rank4         KD\n",
      "rank5     Suresh\n",
      "rank6       Neep\n",
      "Name: Name, dtype: object\n"
     ]
    }
   ],
   "source": [
    "s2 = pd.Series( exam[\"Name\"] )\n",
    "print(s2)"
   ]
  },
  {
   "cell_type": "code",
   "execution_count": null,
   "id": "1e108eed-1174-43ea-9e7d-14ab6cd0a1c4",
   "metadata": {},
   "outputs": [],
   "source": [
    "import numpy as np\n",
    "import math as mt\n",
    "import satistics as st"
   ]
  },
  {
   "cell_type": "code",
   "execution_count": 27,
   "id": "eda46878-c449-40d5-860a-95f4b8ddbcd1",
   "metadata": {},
   "outputs": [
    {
     "name": "stdout",
     "output_type": "stream",
     "text": [
      "[30 32 34 36 38 40 42 44 46 48 50 52 54 56 58 60 62 64 66 68 70]\n"
     ]
    }
   ],
   "source": [
    "arr = np.arange( 30, 71, 2 )\n",
    "print( arr )"
   ]
  },
  {
   "cell_type": "code",
   "execution_count": 28,
   "id": "1ffaf957-0a03-4478-bfc9-97f08a87af82",
   "metadata": {},
   "outputs": [
    {
     "name": "stdout",
     "output_type": "stream",
     "text": [
      "[0 0 0 0 0 0 0 0 0 0]\n",
      "[1 1 1 1 1 1 1 1 1 1]\n",
      "[5 5 5 5 5 5 5 5 5 5]\n"
     ]
    }
   ],
   "source": [
    "arr_zeros = np.zeros( (10), dtype = int)\n",
    "print( arr_zeros )\n",
    "arr_ones = np.ones( (10), dtype = int)\n",
    "print( arr_ones )\n",
    "arr_fives = np.full( (10), 5 )\n",
    "print( arr_fives )\n",
    "# arr_zeros = np.zeros(10) # arr_ones = np.ones(10)\n",
    "# arr_fives = np.ones(10)*5"
   ]
  },
  {
   "cell_type": "code",
   "execution_count": 29,
   "id": "d65bb6a6-0d11-4774-a407-4cd154c7360f",
   "metadata": {},
   "outputs": [
    {
     "name": "stdout",
     "output_type": "stream",
     "text": [
      "[ 5. 10. 15. 20. 25. 30. 35. 40. 45. 50.]\n"
     ]
    }
   ],
   "source": [
    "vector = np.linspace( 5, 50, 10 )\n",
    "print(vector)"
   ]
  },
  {
   "cell_type": "code",
   "execution_count": 30,
   "id": "b46d513f-1eb3-4ad7-9d3a-404f16767af4",
   "metadata": {},
   "outputs": [
    {
     "name": "stdout",
     "output_type": "stream",
     "text": [
      "[[10 11 12 13]\n",
      " [14 15 16 17]\n",
      " [18 19 20 21]]\n",
      "186\n",
      "[42 45 48 51]\n",
      "[46 62 78]\n"
     ]
    }
   ],
   "source": [
    "matrix = np.arange( 10, 22 ).reshape( (3,4) )\n",
    "print(matrix)\n",
    "print( np.sum(matrix) )\n",
    "print( matrix.sum( axis = 0 ) )\n",
    "print( matrix.sum( axis = 1 ) )"
   ]
  },
  {
   "cell_type": "code",
   "execution_count": 31,
   "id": "6e2d2de0-bca4-4348-8679-0048efc1ec70",
   "metadata": {},
   "outputs": [
    {
     "name": "stdout",
     "output_type": "stream",
     "text": [
      "[[ 1.  2.  3. nan]\n",
      " [nan  6. nan  8.]\n",
      " [ 9. nan 11. 12.]]\n",
      "\n",
      " [[False False False  True]\n",
      " [ True False  True False]\n",
      " [False  True False False]]\n"
     ]
    }
   ],
   "source": [
    "a = np.array( [[1,2,3, np.nan], [np.nan, 6, np.nan, 8], [9, np.nan, 11, 12] ] )\n",
    "print(a)\n",
    "print(\"\\n\",np.isnan(a))\n",
    "# Other method is : pd.isnull(a)"
   ]
  },
  {
   "cell_type": "code",
   "execution_count": 32,
   "id": "1975f60a-924e-485c-8ef9-c8aa87b8c892",
   "metadata": {},
   "outputs": [
    {
     "name": "stdout",
     "output_type": "stream",
     "text": [
      "[ 4.2  5.6  8.9  9.1 -3.6 -4.5 -5.7]\n",
      "Rounded-off array x :  [ 4.  6.  9.  9. -4. -4. -6.]\n",
      "Floor\t:  [ 4.  5.  8.  9. -4. -5. -6.]\n",
      "Ceil\t:  [ 5.  6.  9. 10. -3. -4. -5.]\n",
      "Truncated array x\t:  [ 4.  5.  8.  9. -3. -4. -5.]\n",
      "Round\t:  [4, 6, 9, 9, -4, -4, -6]\n"
     ]
    }
   ],
   "source": [
    "# Creating an array with elements\n",
    "x = np.array( [4.2, 5.6, 8.9, 9.1, -3.6, -4.5, -5.7] )\n",
    "print(x)\n",
    "r = [ round(ele) for ele in x ]\n",
    "print(\"Rounded-off array x : \", np.round(x) )\n",
    "print(\"Floor\t: \", np.floor(x) )\n",
    "print(\"Ceil\t: \", np.ceil(x) )\n",
    "print(\"Truncated array x\t: \", np.trunc(x) )\n",
    "print(\"Round\t: \", r )"
   ]
  },
  {
   "cell_type": "code",
   "execution_count": 34,
   "id": "e16c4151-a5ec-40a0-85c7-b4ee25907f74",
   "metadata": {},
   "outputs": [
    {
     "name": "stdout",
     "output_type": "stream",
     "text": [
      "[[89 75 45 65]\n",
      " [65 14 78 49]\n",
      " [32 46 55 73]]\n",
      "[89 75 45 65 65 14 78 49 32 46 55 73]\n",
      "Maximum :  89\n",
      "Minimum :  14\n",
      "Median :  60.0\n",
      "Mean :  57.166666666666664\n",
      "Standard Deviation :  20.370866997313154\n",
      "Covariance :  452.69696969696963\n",
      "Weighted Average :  57.166666666666664\n"
     ]
    }
   ],
   "source": [
    "arr = np.array([ [89,75,45,65], [65,14,78,49], [32,46,55,73] ])\n",
    "print(arr)\n",
    "arr = arr.flatten()\n",
    "print(arr)\n",
    "print(\"Maximum : \", arr.max() )\n",
    "print(\"Minimum : \", arr.min() )\n",
    "print(\"Median : \", np.median(arr) )\n",
    "print(\"Mean : \", np.mean(arr) )\n",
    "print(\"Standard Deviation : \", np.std(arr) )\n",
    "print(\"Covariance : \", np.cov(arr) )\n",
    "print(\"Weighted Average : \", np.average(arr) )"
   ]
  },
  {
   "cell_type": "code",
   "execution_count": 35,
   "id": "0701d2fe-a015-4c2f-8a01-0272d8b942cb",
   "metadata": {},
   "outputs": [
    {
     "name": "stdout",
     "output_type": "stream",
     "text": [
      "[[89 75 45 65]\n",
      " [65 14 78 49]\n",
      " [32 46 55 73]]\n",
      "[45 14 32]\n",
      "[89 78 73]\n"
     ]
    }
   ],
   "source": [
    "arr = arr.reshape((3,4))\n",
    "print(arr)\n",
    "print(arr.min(axis = 1 ))\n",
    "print(arr.max(axis = 1 ))"
   ]
  },
  {
   "cell_type": "code",
   "execution_count": 36,
   "id": "b4c266cb-89af-42c3-9587-d13a6b5e5f62",
   "metadata": {},
   "outputs": [
    {
     "name": "stdout",
     "output_type": "stream",
     "text": [
      "[(b'Herin', 4, 45.6) (b'Rohan', 6, 52.3) (b'Rahul', 4, 53.6)]\n",
      "[(b'Herin', 4, 45.6) (b'Rahul', 4, 53.6) (b'Rohan', 6, 52.3)]\n"
     ]
    }
   ],
   "source": [
    "data_type = [('name','S15'), ('class', int), ('height', float) ]\n",
    "students_details = [('Herin', 4, 45.6),\n",
    "('Rohan', 6, 52.3),\n",
    "('Rahul', 4, 53.6)]\n",
    "students = np.array( students_details, dtype = data_type ) \n",
    "print( students )\n",
    "print( np.sort( students, order = ['class','height'] ))"
   ]
  },
  {
   "cell_type": "code",
   "execution_count": null,
   "id": "e9727da4-8ff1-463f-b17a-3d9f0818a760",
   "metadata": {},
   "outputs": [],
   "source": []
  }
 ],
 "metadata": {
  "kernelspec": {
   "display_name": "Python 3 (ipykernel)",
   "language": "python",
   "name": "python3"
  },
  "language_info": {
   "codemirror_mode": {
    "name": "ipython",
    "version": 3
   },
   "file_extension": ".py",
   "mimetype": "text/x-python",
   "name": "python",
   "nbconvert_exporter": "python",
   "pygments_lexer": "ipython3",
   "version": "3.12.4"
  }
 },
 "nbformat": 4,
 "nbformat_minor": 5
}
