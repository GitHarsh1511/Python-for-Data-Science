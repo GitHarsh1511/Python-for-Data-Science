{
 "cells": [
  {
   "cell_type": "code",
   "execution_count": 3,
   "id": "08f592e8-cc7e-4d5f-b6c0-4dbac878ff05",
   "metadata": {},
   "outputs": [
    {
     "name": "stdout",
     "output_type": "stream",
     "text": [
      "\n",
      "Enter the subject names as follows :- \n",
      "\n"
     ]
    },
    {
     "name": "stdin",
     "output_type": "stream",
     "text": [
      "Enter a subject name :  DF\n",
      "Enter a subject name :  OS\n",
      "Enter a subject name :  Python\n",
      "Enter a subject name :  Java\n",
      "Enter a subject name :  CN\n",
      "Enter a subject name :  DS\n",
      "Enter a subject name :  DAA\n",
      "Enter a subject name :  COA\n",
      "Enter a subject name :  DBMS\n",
      "Enter a subject name :  C++\n"
     ]
    },
    {
     "name": "stdout",
     "output_type": "stream",
     "text": [
      "\n",
      "Thus, the subjects entered are as follows :- \n",
      "\n",
      "['DF', 'OS', 'Python', 'Java', 'CN', 'DS', 'DAA', 'COA', 'DBMS', 'C++']\n"
     ]
    }
   ],
   "source": [
    "subjects = []\n",
    "\n",
    "print(\"\\nEnter the subject names as follows :- \\n\")\n",
    "for i in range(10):\n",
    "    sub = input(\"Enter a subject name : \")\n",
    "    subjects.append( sub )\n",
    "\n",
    "print(\"\\nThus, the subjects entered are as follows :- \\n\")\n",
    "print(subjects)"
   ]
  },
  {
   "cell_type": "code",
   "execution_count": 4,
   "id": "9e0c715f-5113-4e79-a078-ae75e469baf5",
   "metadata": {},
   "outputs": [
    {
     "name": "stdout",
     "output_type": "stream",
     "text": [
      "\n",
      "The Elective subjects are :- \n",
      "\n",
      "['Management', 'AD JAVA', 'TWS', 'Graphics', 'Maths']\n"
     ]
    }
   ],
   "source": [
    "elective_subs = ['Management','AD JAVA','TWS','Graphics','Maths']\n",
    "\n",
    "print(\"\\nThe Elective subjects are :- \\n\")\n",
    "print(elective_subs)"
   ]
  },
  {
   "cell_type": "code",
   "execution_count": 6,
   "id": "cfb93231-1757-46b0-aa61-9e015fb3b0df",
   "metadata": {},
   "outputs": [
    {
     "name": "stdout",
     "output_type": "stream",
     "text": [
      "\n",
      " After extending the list 'Subjects' with 'Elective Subjects' list, the new list\n",
      "['DF', 'OS', 'Python', 'Java', 'CN', 'DS', 'DAA', 'COA', 'DBMS', 'C++', 'Management', 'AD JAVA', 'TWS', 'Graphics', 'Maths']\n"
     ]
    }
   ],
   "source": [
    "subjects.extend(elective_subs)\n",
    "\n",
    "print(\"\\n After extending the list 'Subjects' with 'Elective Subjects' list, the new list\")\n",
    "print(subjects)"
   ]
  },
  {
   "cell_type": "code",
   "execution_count": 7,
   "id": "53bdef15-6f43-47b6-a79b-080aee6593f8",
   "metadata": {},
   "outputs": [
    {
     "name": "stdout",
     "output_type": "stream",
     "text": [
      "['DF', 'OS', 'Python', 'Java', 'CN', 'DS', 'DAA', 'COA', 'DBMS', 'C++', 'Management', 'AD JAVA', 'TWS', 'Graphics', 'Maths', 'Java', 'Graphics', 'Maths']\n"
     ]
    }
   ],
   "source": [
    "subjects.append('Java')\n",
    "subjects.append('Graphics')\n",
    "subjects.append('Maths')\n",
    "print(subjects)"
   ]
  },
  {
   "cell_type": "code",
   "execution_count": 9,
   "id": "28e4ec6e-5623-47f8-8a44-27fa5c26f743",
   "metadata": {},
   "outputs": [
    {
     "name": "stdout",
     "output_type": "stream",
     "text": [
      "Index of duplicate elements are : \n",
      "[15, 16, 17]\n"
     ]
    },
    {
     "data": {
      "text/plain": [
       "'\\nOr othe method is directly finding for duplicate occurence of a particular subject\\n\\nfor i in subjects: if i==\"COA\":\\nprint(subjects.index(i)) break a=subjects.index(i)\\n\\n'"
      ]
     },
     "execution_count": 9,
     "metadata": {},
     "output_type": "execute_result"
    }
   ],
   "source": [
    "result = [ idx for idx, item in enumerate(subjects) if item in subjects[:idx] ]\n",
    "\n",
    "print(\"Index of duplicate elements are : \")\n",
    "print(result)\n",
    "\n",
    "'''\n",
    "Or othe method is directly finding for duplicate occurence of a particular subject\n",
    "\n",
    "for i in subjects: if i==\"COA\":\n",
    "print(subjects.index(i)) break a=subjects.index(i)\n",
    "\n",
    "'''\n"
   ]
  },
  {
   "cell_type": "code",
   "execution_count": 14,
   "id": "b84babcc-99f6-401c-a8ef-6df59141da3a",
   "metadata": {},
   "outputs": [
    {
     "name": "stdout",
     "output_type": "stream",
     "text": [
      "\n",
      "Subjects list after removing duplicates using the second method:\n",
      "['DF', 'OS', 'Python', 'Java', 'CN', 'DS', 'DAA', 'COA', 'DBMS', 'C++', 'Management', 'AD JAVA', 'TWS', 'Graphics', 'Maths']\n"
     ]
    }
   ],
   "source": [
    "subject1 = []\n",
    "for i in subjects:\n",
    "    if i not in subject1:\n",
    "        subject1.append(i)\n",
    "\n",
    "print(\"\\nSubjects list after removing duplicates using the second method:\")\n",
    "print(subject1)"
   ]
  },
  {
   "cell_type": "code",
   "execution_count": 16,
   "id": "7776caa3-79fc-4129-bb70-bb74f6d76140",
   "metadata": {},
   "outputs": [
    {
     "name": "stdout",
     "output_type": "stream",
     "text": [
      "\n",
      "After removing elements from the list using rmove_range() function, the new list is given as:- \n",
      "['DF', 'Python', 'Java', 'CN', 'DS', 'DAA', 'COA', 'DBMS', 'C++', 'Management', 'AD JAVA', 'TWS', 'Graphics', 'Maths', 'Java', 'Graphics', 'Maths']\n"
     ]
    }
   ],
   "source": [
    "def remove_range(i1,i2):\n",
    "    del(subjects[i1:i2])\n",
    "\n",
    "remove_range(1,2)\n",
    "print(\"\\nAfter removing elements from the list using rmove_range() function, the new list is given as:- \")\n",
    "print(subjects)"
   ]
  },
  {
   "cell_type": "code",
   "execution_count": 17,
   "id": "42758da4-1aab-4230-9a07-823b6f6edd39",
   "metadata": {},
   "outputs": [
    {
     "name": "stdout",
     "output_type": "stream",
     "text": [
      "After reversing the elements, the list is :  ['Maths', 'Graphics', 'Java', 'Maths', 'Graphics', 'TWS', 'AD JAVA', 'Management', 'C++', 'DBMS', 'COA', 'DAA', 'DS', 'CN', 'Java', 'Python', 'DF']\n",
      "After sorting the elements, the list is :  ['AD JAVA', 'C++', 'CN', 'COA', 'DAA', 'DBMS', 'DF', 'DS', 'Graphics', 'Graphics', 'Java', 'Java', 'Management', 'Maths', 'Maths', 'Python', 'TWS']\n",
      "After popping the 5th element, the list is :  ['AD JAVA', 'C++', 'CN', 'COA', 'DAA', 'DF', 'DS', 'Graphics', 'Graphics', 'Java', 'Java', 'Management', 'Maths', 'Maths', 'Python', 'TWS']\n"
     ]
    }
   ],
   "source": [
    "subjects.reverse()\n",
    "print(\"After reversing the elements, the list is : \",subjects)\n",
    "subjects.sort()\n",
    "print(\"After sorting the elements, the list is : \",subjects)\n",
    "subjects.pop(5)\n",
    "print(\"After popping the 5th element, the list is : \",subjects)"
   ]
  },
  {
   "cell_type": "code",
   "execution_count": 18,
   "id": "1e3859c8-4ea0-4f2f-a699-e2d8a0e96237",
   "metadata": {},
   "outputs": [
    {
     "name": "stdout",
     "output_type": "stream",
     "text": [
      "Total number of elements in the list:  16\n"
     ]
    }
   ],
   "source": [
    "size = len(subjects)\n",
    "print(\"Total number of elements in the list: \",size)"
   ]
  },
  {
   "cell_type": "code",
   "execution_count": 19,
   "id": "ac9b7e4f-eb48-4448-b7ec-d412d69c2c82",
   "metadata": {},
   "outputs": [
    {
     "name": "stdout",
     "output_type": "stream",
     "text": [
      "\n",
      "After clearing the subjects list : \n",
      "[]\n"
     ]
    }
   ],
   "source": [
    "subjects.clear()\n",
    "print(\"\\nAfter clearing the subjects list : \")\n",
    "print(subjects)"
   ]
  },
  {
   "cell_type": "code",
   "execution_count": 20,
   "id": "da12b42d-728a-49ac-817e-60eee558f544",
   "metadata": {},
   "outputs": [
    {
     "name": "stdout",
     "output_type": "stream",
     "text": [
      "('a', 'b', 'c', 'd')\n",
      "<class 'tuple'>\n",
      "<class 'list'>\n",
      "['a', 'b', 'c', 'd', 'herin', 'darshan']\n",
      "['a', 'b', 'd', 'herin', 'darshan']\n",
      "<class 'tuple'>\n",
      "('a', 'b', 'd', 'herin', 'darshan')\n"
     ]
    }
   ],
   "source": [
    "t1=(\"a\",\"b\",\"c\",\"d\")\n",
    "print(t1)\n",
    "print(type(t1))\n",
    "list1=list(t1)\n",
    "print(type(list1))\n",
    "list1.append(\"herin\")\n",
    "list1.append(\"darshan\")\n",
    "print(list1)\n",
    "list1.remove(\"c\")\n",
    "print(list1)\n",
    "t1=tuple(list1)\n",
    "print(type(t1))\n",
    "print(t1)"
   ]
  },
  {
   "cell_type": "code",
   "execution_count": null,
   "id": "c01124f9-f8fc-4225-a7b4-f608cd5630ef",
   "metadata": {},
   "outputs": [],
   "source": []
  }
 ],
 "metadata": {
  "kernelspec": {
   "display_name": "Python 3 (ipykernel)",
   "language": "python",
   "name": "python3"
  },
  "language_info": {
   "codemirror_mode": {
    "name": "ipython",
    "version": 3
   },
   "file_extension": ".py",
   "mimetype": "text/x-python",
   "name": "python",
   "nbconvert_exporter": "python",
   "pygments_lexer": "ipython3",
   "version": "3.12.4"
  }
 },
 "nbformat": 4,
 "nbformat_minor": 5
}
