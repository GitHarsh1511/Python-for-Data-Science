{
 "cells": [
  {
   "cell_type": "code",
   "execution_count": 3,
   "id": "e6e8bf97-450d-48af-b7c3-5c3e6aeae6dd",
   "metadata": {},
   "outputs": [
    {
     "name": "stdout",
     "output_type": "stream",
     "text": [
      "\n",
      "The dictionary 'student data' is given as : \n",
      "{'id_no': [1, 2, 3, 4, 5], 'name': ['Herin', 'Darshan', 'KD', 'Jainik', 'Shivam'], 'marks': [37, 34, 35, 38, 39]}\n",
      "\n",
      "The keys of dictionary are given as : \n",
      "dict_keys(['id_no', 'name', 'marks'])\n",
      "\n",
      "The values of the dictionary are given as : \n",
      "dict_values([[1, 2, 3, 4, 5], ['Herin', 'Darshan', 'KD', 'Jainik', 'Shivam'], [37, 34, 35, 38, 39]])\n"
     ]
    }
   ],
   "source": [
    "student_data = {\n",
    "    'id_no' : [1,2,3,4,5],\n",
    "    'name' : ['Herin','Darshan','KD','Jainik','Shivam'],\n",
    "    'marks' : [37,34,35,38,39]\n",
    "}\n",
    "print(\"\\nThe dictionary 'student data' is given as : \")\n",
    "print(student_data)\n",
    "print(\"\\nThe keys of dictionary are given as : \")\n",
    "print(student_data.keys())\n",
    "print(\"\\nThe values of the dictionary are given as : \")\n",
    "print(student_data.values())"
   ]
  },
  {
   "cell_type": "code",
   "execution_count": 5,
   "id": "8eb56743-b5af-4baf-a872-746384a6a06c",
   "metadata": {},
   "outputs": [
    {
     "name": "stdout",
     "output_type": "stream",
     "text": [
      "\n",
      "After inserting the details of a new student, the 'student data' dictionary is given as :\n",
      "{'id_no': [1, 2, 3, 4, 5, 6, 6], 'name': ['Herin', 'Darshan', 'KD', 'Jainik', 'Shivam', 'Harsh', 'Harsh'], 'marks': [37, 34, 35, 38, 39, 32, 32]}\n"
     ]
    }
   ],
   "source": [
    "student_data['id_no'].insert(5, 6)\n",
    "student_data['name'].insert(5, \"Harsh\")\n",
    "student_data['marks'].insert(5, 32 )\n",
    "print(\"\\nAfter inserting the details of a new student, the 'student data' dictionary is given as :\")\n",
    "print(student_data)"
   ]
  },
  {
   "cell_type": "code",
   "execution_count": 6,
   "id": "ccdcd284-9353-481b-ad77-6c541f451d15",
   "metadata": {},
   "outputs": [
    {
     "name": "stdout",
     "output_type": "stream",
     "text": [
      "Retriving the values ocrresponding to keys : \n"
     ]
    },
    {
     "data": {
      "text/plain": [
       "[1, 2, 3, 4, 5, 6, 6]"
      ]
     },
     "execution_count": 6,
     "metadata": {},
     "output_type": "execute_result"
    }
   ],
   "source": [
    "print(\"Retriving the values ocrresponding to keys : \")\n",
    "student_data.get('id_no')"
   ]
  },
  {
   "cell_type": "code",
   "execution_count": 7,
   "id": "55f7699e-dddb-4c9a-a35c-72335a519fd5",
   "metadata": {},
   "outputs": [
    {
     "name": "stdout",
     "output_type": "stream",
     "text": [
      "\n",
      "For updating the 'stduent data' dictionary, please enter a key number : \n"
     ]
    },
    {
     "name": "stdin",
     "output_type": "stream",
     "text": [
      "key =  1\n",
      "Enter a new name:  Harry\n",
      "Enter the new marks:  20\n"
     ]
    },
    {
     "name": "stdout",
     "output_type": "stream",
     "text": [
      "None\n",
      "\n",
      "Thus, the updated dictionary is given as : \n",
      "{'id_no': [1, 2, 3, 4, 5, 6, 6], 'name': ['Harry', 'Darshan', 'KD', 'Jainik', 'Shivam', 'Harsh', 'Harsh'], 'marks': [20, 34, 35, 38, 39, 32, 32]}\n"
     ]
    }
   ],
   "source": [
    "def update_detail(k):\n",
    "    a=student_data.get(\"id_no\")\n",
    "    b=student_data.get(\"name\")\n",
    "    c=student_data.get(\"marks\")\n",
    "\n",
    "    for i in range(len(a)):\n",
    "        if a[i]==k:\n",
    "            name=input(\"Enter a new name: \")\n",
    "            marks=int(input(\"Enter the new marks: \"))\n",
    "            b[i]=name\n",
    "            c[i]=marks\n",
    "            student_data.update({\"id_no\":a,\"name\":b,\"marks\":c})\n",
    "            flag = 0\n",
    "\n",
    "\n",
    "print(\"\\nFor updating the 'stduent data' dictionary, please enter a key number : \")\n",
    "n = int(input(\"key = \"))\n",
    "if n > 0 and n <= 6 :\n",
    "    flag = 1;\n",
    "\n",
    "if flag==1:\n",
    "    print(update_detail(n))\n",
    "    print(\"\\nThus, the updated dictionary is given as : \")\n",
    "    print(student_data)\n",
    "\n",
    "else:\n",
    "    print(\"Sorry, not valid key number.\")"
   ]
  },
  {
   "cell_type": "code",
   "execution_count": 8,
   "id": "d5faec6c-0cda-41d5-a15e-d66abaf99424",
   "metadata": {},
   "outputs": [
    {
     "name": "stdout",
     "output_type": "stream",
     "text": [
      "['id_no']\n",
      "['id_no', 'name']\n",
      "['id_no', 'name', 'marks']\n"
     ]
    }
   ],
   "source": [
    "list1 = []\n",
    "for i in student_data.keys(): \n",
    "    list1.append(i)\n",
    "    print(list1)"
   ]
  },
  {
   "cell_type": "code",
   "execution_count": 11,
   "id": "3f0efac2-bd98-4ba0-b28e-12cdd8e3f97b",
   "metadata": {},
   "outputs": [
    {
     "name": "stdout",
     "output_type": "stream",
     "text": [
      "[[1, 2, 3, 4, 5, 6, 6]]\n",
      "[[1, 2, 3, 4, 5, 6, 6], ['Harry', 'Darshan', 'KD', 'Jainik', 'Shivam', 'Harsh', 'Harsh']]\n",
      "[[1, 2, 3, 4, 5, 6, 6], ['Harry', 'Darshan', 'KD', 'Jainik', 'Shivam', 'Harsh', 'Harsh'], [20, 34, 35, 38, 39, 32, 32]]\n"
     ]
    }
   ],
   "source": [
    "list2 = []\n",
    "for i in student_data.values(): \n",
    "    list2.append(i)\n",
    "    print(list2)"
   ]
  },
  {
   "cell_type": "code",
   "execution_count": 12,
   "id": "60a78d73-9972-43ce-af11-582e434d0afd",
   "metadata": {},
   "outputs": [
    {
     "name": "stdout",
     "output_type": "stream",
     "text": [
      "7\n"
     ]
    }
   ],
   "source": [
    "b = student_data.get('name')\n",
    "print(len(b))"
   ]
  },
  {
   "cell_type": "code",
   "execution_count": 13,
   "id": "f55204c7-6a24-49e0-ba65-82e3870d228b",
   "metadata": {},
   "outputs": [
    {
     "name": "stdout",
     "output_type": "stream",
     "text": [
      "{}\n"
     ]
    }
   ],
   "source": [
    "student_data.clear();\n",
    "print(student_data)"
   ]
  },
  {
   "cell_type": "code",
   "execution_count": 14,
   "id": "0a6d79a7-df2e-4d4e-b6a6-b7513af9854e",
   "metadata": {},
   "outputs": [
    {
     "name": "stdout",
     "output_type": "stream",
     "text": [
      "{'name': ['Herin', 'Darshan', 'KD', 'Jainik', 'Shivam'], 'score': array('i', [35, 33, 34, 23, 38]), 'attempts': array('i', [2, 3, 5, 6, 7]), 'qualify': ['y', 'y', 'n', 'n', 'y']}\n"
     ]
    }
   ],
   "source": [
    "import array\n",
    "\n",
    "exam_data_array = {\n",
    "'name': ['Herin','Darshan','KD','Jainik','Shivam'],\n",
    "'score': array.array('i',[35,33,34,23,38]),\n",
    "'attempts': array.array('i',[2,3,5,6,7]),\n",
    "'qualify':['y','y','n','n','y']\n",
    "}\n",
    "\n",
    "print(exam_data_array)"
   ]
  },
  {
   "cell_type": "code",
   "execution_count": 16,
   "id": "de3c827a-7d0a-4b82-b4ca-aa5cb6a7ce76",
   "metadata": {},
   "outputs": [
    {
     "name": "stdout",
     "output_type": "stream",
     "text": [
      "{1: ['Herin', 100], 2: ['Darshan', 100], 3: ['KD', 100], 4: ['Jainik', 50], 5: ['Shivam', 40]}\n"
     ]
    }
   ],
   "source": [
    "l1=['Herin',100]\n",
    "l2=['Darshan',100]\n",
    "l3=['KD',100]\n",
    "l4=['Jainik',50]\n",
    "l5=['Shivam',40]\n",
    "data={1:l1, 2:l2, 3:l3, 4:l4, 5:l5}\n",
    "print(data)"
   ]
  },
  {
   "cell_type": "code",
   "execution_count": null,
   "id": "b2e5f671-d2c9-4efd-9d97-d8c564f72f98",
   "metadata": {},
   "outputs": [],
   "source": []
  }
 ],
 "metadata": {
  "kernelspec": {
   "display_name": "Python 3 (ipykernel)",
   "language": "python",
   "name": "python3"
  },
  "language_info": {
   "codemirror_mode": {
    "name": "ipython",
    "version": 3
   },
   "file_extension": ".py",
   "mimetype": "text/x-python",
   "name": "python",
   "nbconvert_exporter": "python",
   "pygments_lexer": "ipython3",
   "version": "3.12.4"
  }
 },
 "nbformat": 4,
 "nbformat_minor": 5
}
