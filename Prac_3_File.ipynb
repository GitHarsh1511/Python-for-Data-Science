{
 "cells": [
  {
   "cell_type": "code",
   "execution_count": 2,
   "id": "2138f31a-162e-426a-b063-9faf5518d531",
   "metadata": {},
   "outputs": [
    {
     "name": "stdout",
     "output_type": "stream",
     "text": [
      "str1 :  Welcome to Python Programming\n",
      "\n",
      "First index : str1[0] =  W\n",
      "\n",
      "Last index(negative) : str1[-1] =  g\n",
      "\n",
      "Slicing of string : str1[-8:-2] =  grammi\n",
      "\n",
      "Length of the string str1 =  29\n"
     ]
    }
   ],
   "source": [
    "str1 = \"Welcome to Python Programming\"\n",
    "\n",
    "print(\"str1 : \", str1 )\n",
    "print(\"\\nFirst index : str1[0] = \", str1[0])\n",
    "print(\"\\nLast index(negative) : str1[-1] = \", str1[-1])\n",
    "print(\"\\nSlicing of string : str1[-8:-2] = \", str1[-8:-2] )\n",
    "print(\"\\nLength of the string str1 = \", len(str1) )"
   ]
  },
  {
   "cell_type": "code",
   "execution_count": 3,
   "id": "521cc818-7bc3-459b-a5e2-102c7bb8bf0d",
   "metadata": {},
   "outputs": [
    {
     "name": "stdout",
     "output_type": "stream",
     "text": [
      "['Wel', 'com', 'e t', 'o P', 'yth', 'on ', 'Pro', 'gra', 'mmi', 'ng']\n"
     ]
    }
   ],
   "source": [
    "n=3\n",
    "chunks = [str1[i:i+n]\n",
    "for i in range(0,len(str1),n)] \n",
    "print(chunks)"
   ]
  },
  {
   "cell_type": "code",
   "execution_count": 4,
   "id": "f1f2f730-3544-4498-a223-6ba94e8ca178",
   "metadata": {},
   "outputs": [
    {
     "name": "stdout",
     "output_type": "stream",
     "text": [
      "['Welcome', 'to', 'Python', 'Programming']\n"
     ]
    }
   ],
   "source": [
    "print(str1.split())"
   ]
  },
  {
   "cell_type": "code",
   "execution_count": 6,
   "id": "ccf3d900-e2c3-4490-a298-826e3372fd21",
   "metadata": {},
   "outputs": [
    {
     "name": "stdout",
     "output_type": "stream",
     "text": [
      "Welcome\n",
      "to\n",
      "Python\n",
      "Programming\n"
     ]
    }
   ],
   "source": [
    "a = str1.split()\n",
    "for i in a:\n",
    "    print(i)"
   ]
  },
  {
   "cell_type": "code",
   "execution_count": 8,
   "id": "7981891c-7fea-438a-aaf5-cd388c626ae5",
   "metadata": {},
   "outputs": [
    {
     "name": "stdout",
     "output_type": "stream",
     "text": [
      " Welcome to ADIT College \n",
      "Welcome to ADIT College\n",
      "Welcome to ADIT College \n",
      " Welcome to ADIT College\n"
     ]
    }
   ],
   "source": [
    "str2 = \" Welcome to ADIT College \"\n",
    "print(str2)\n",
    "print(str2.strip())\n",
    "print(str2.lstrip())\n",
    "print(str2.rstrip())"
   ]
  },
  {
   "cell_type": "code",
   "execution_count": 9,
   "id": "d414624c-767a-42be-b6cb-aa533eabdba2",
   "metadata": {},
   "outputs": [
    {
     "name": "stdout",
     "output_type": "stream",
     "text": [
      " WELCOME TO ADIT COLLEGE \n",
      " welcome to adit college \n"
     ]
    }
   ],
   "source": [
    "print(str2.upper())\n",
    "print(str2.lower())"
   ]
  },
  {
   "cell_type": "code",
   "execution_count": 10,
   "id": "ffacbb55-0170-4eec-8c92-63d1ccad438c",
   "metadata": {},
   "outputs": [
    {
     "name": "stdout",
     "output_type": "stream",
     "text": [
      "Hello world\n",
      "welcome world\n"
     ]
    }
   ],
   "source": [
    "str3 = \"Hello world\"\n",
    "print(str3)\n",
    "x = str3.replace(\"Hello\", \"welcome\")\n",
    "print(x)"
   ]
  },
  {
   "cell_type": "code",
   "execution_count": 11,
   "id": "1f64ba98-9f60-4c88-81c9-3b95b2c609a4",
   "metadata": {},
   "outputs": [
    {
     "name": "stdout",
     "output_type": "stream",
     "text": [
      "Hello There, How Are You ?\n"
     ]
    }
   ],
   "source": [
    "str4 = \"hello there, how are you ?\"\n",
    "print(str4.title())"
   ]
  },
  {
   "cell_type": "code",
   "execution_count": 12,
   "id": "4241954d-d01d-45c6-b92b-fd79056bd0f8",
   "metadata": {},
   "outputs": [
    {
     "name": "stdout",
     "output_type": "stream",
     "text": [
      "WelcometoADIT\n"
     ]
    }
   ],
   "source": [
    "text = \"Welcome\", \"to\", \"ADIT\"\n",
    "print(''.join(text))"
   ]
  },
  {
   "cell_type": "code",
   "execution_count": 15,
   "id": "17db6840-9bda-4990-9620-51380c9a2e78",
   "metadata": {},
   "outputs": [
    {
     "name": "stdout",
     "output_type": "stream",
     "text": [
      "{1, 2, 3, 4, 6}\n"
     ]
    }
   ],
   "source": [
    "X = { 1, 2, 3, 4 }\n",
    "X.add(6)\n",
    "print(X)"
   ]
  },
  {
   "cell_type": "code",
   "execution_count": 16,
   "id": "c8f04ce0-828a-451c-bc92-5ffb695282bf",
   "metadata": {},
   "outputs": [
    {
     "name": "stdout",
     "output_type": "stream",
     "text": [
      "{1, 2, 3, 4, 5}\n",
      "{1, 2, 3, 4, 5, 7, 11}\n",
      "{2, 3, 5}\n",
      "{1, 4}\n"
     ]
    }
   ],
   "source": [
    "A = {1, 2, 3, 4, 5}\n",
    "B = {2, 3, 5, 7, 11}\n",
    "print(A)\n",
    "print(A.union(B))\n",
    "print(A.intersection(B))\n",
    "print(A.difference(B))"
   ]
  },
  {
   "cell_type": "code",
   "execution_count": 17,
   "id": "5315609c-db21-493b-9fa2-522a5429a6d1",
   "metadata": {},
   "outputs": [
    {
     "name": "stdout",
     "output_type": "stream",
     "text": [
      "{1, 4, 7, 11}\n"
     ]
    }
   ],
   "source": [
    "print(A.symmetric_difference(B))"
   ]
  },
  {
   "cell_type": "code",
   "execution_count": 18,
   "id": "d996b8da-e17d-49ad-94a8-819bf6ce36c7",
   "metadata": {},
   "outputs": [
    {
     "name": "stdout",
     "output_type": "stream",
     "text": [
      "{'c', 'd'}\n"
     ]
    }
   ],
   "source": [
    "X = { \"a\", \"b\", \"c\", \"d\" }\n",
    "Y = { \"c\", \"d\", \"e\", \"f\" }\n",
    "X.intersection_update(Y) \n",
    "print(X)"
   ]
  },
  {
   "cell_type": "code",
   "execution_count": 19,
   "id": "4a518614-6ff6-4c24-94ac-485a08f61a42",
   "metadata": {},
   "outputs": [
    {
     "name": "stdout",
     "output_type": "stream",
     "text": [
      "{'f', 'e'}\n"
     ]
    }
   ],
   "source": [
    "X.symmetric_difference_update(Y)\n",
    "print(X)"
   ]
  },
  {
   "cell_type": "code",
   "execution_count": 21,
   "id": "bd2dae7a-3f1e-48a3-af6b-f8026916418b",
   "metadata": {},
   "outputs": [
    {
     "name": "stdout",
     "output_type": "stream",
     "text": [
      "{'blue', 'black', 'red'}\n"
     ]
    }
   ],
   "source": [
    "R = { \"red\", \"blue\", \"black\" }\n",
    "S = { \"pink\", \"green\", \"yellow\" }\n",
    "R.difference_update(S)\n",
    "print(R)"
   ]
  },
  {
   "cell_type": "code",
   "execution_count": 22,
   "id": "873d89bb-2f02-4814-9bce-fcec662d445a",
   "metadata": {},
   "outputs": [
    {
     "name": "stdout",
     "output_type": "stream",
     "text": [
      "{'c', 'd', 'a'}\n"
     ]
    }
   ],
   "source": [
    "A = {'a', 'b', 'c', 'd'}\n",
    "B = {'c', 'd', 'e' }\n",
    "A.discard('b')\n",
    "print(A)"
   ]
  },
  {
   "cell_type": "code",
   "execution_count": 23,
   "id": "f38f7126-fd8e-4b4f-a35d-b36a14e1d761",
   "metadata": {},
   "outputs": [
    {
     "name": "stdout",
     "output_type": "stream",
     "text": [
      "True\n",
      "False\n",
      "False\n"
     ]
    }
   ],
   "source": [
    "x = {\"a\", \"b\", \"c\"}\n",
    "y = {\"f\", \"e\", \"d\", \"c\", \"b\", \"a\" }\n",
    "\n",
    "x1 = x.issubset(y)\n",
    "y1 = x.issuperset(y)\n",
    "z1 = x.isdisjoint(y)\n",
    "\n",
    "print(x1)\n",
    "print(y1)\n",
    "print(z1)"
   ]
  },
  {
   "cell_type": "code",
   "execution_count": 24,
   "id": "193c4c11-61c9-49fb-9f89-853b1d42a6a0",
   "metadata": {},
   "outputs": [
    {
     "name": "stdout",
     "output_type": "stream",
     "text": [
      "{'c', 'b'}\n"
     ]
    }
   ],
   "source": [
    "x.remove(\"a\")\n",
    "print(x)"
   ]
  },
  {
   "cell_type": "code",
   "execution_count": 25,
   "id": "d968cc31-ad35-4356-a573-73e268fb2ff5",
   "metadata": {},
   "outputs": [
    {
     "name": "stdout",
     "output_type": "stream",
     "text": [
      "c\n"
     ]
    }
   ],
   "source": [
    "A = x.pop()\n",
    "print(A)"
   ]
  },
  {
   "cell_type": "code",
   "execution_count": 27,
   "id": "3ea79e4f-ce8e-4c28-afd7-913ac6372486",
   "metadata": {},
   "outputs": [
    {
     "name": "stdout",
     "output_type": "stream",
     "text": [
      "set()\n"
     ]
    }
   ],
   "source": [
    "x = { \"a\", \"b\", \"c\" }\n",
    "x.clear()\n",
    "print(x)"
   ]
  },
  {
   "cell_type": "code",
   "execution_count": 28,
   "id": "7cade704-be7c-4b83-8647-ad918dfde40e",
   "metadata": {},
   "outputs": [
    {
     "name": "stdout",
     "output_type": "stream",
     "text": [
      "array('i', [1, 2, 4, 5])\n"
     ]
    }
   ],
   "source": [
    "import array as arr\n",
    "a = arr.array('i', [1,2, 4, 5])\n",
    "print(a)"
   ]
  },
  {
   "cell_type": "code",
   "execution_count": 29,
   "id": "e00d3e6c-2723-4b28-a3f8-53e500d8e040",
   "metadata": {},
   "outputs": [
    {
     "name": "stdout",
     "output_type": "stream",
     "text": [
      "First element: 2\n",
      "Second element: 4\n",
      "Last element:  8\n"
     ]
    }
   ],
   "source": [
    "import array as arr\n",
    "a = arr. array('i', [2, 4, 6, 8])\n",
    "\n",
    "print(\"First element:\", a[0])\n",
    "print(\"Second element:\", a[1])\n",
    "print(\"Last element: \", a[-1])"
   ]
  },
  {
   "cell_type": "code",
   "execution_count": 30,
   "id": "08748d8d-7884-4b19-a7ba-038b604b6401",
   "metadata": {},
   "outputs": [
    {
     "name": "stdout",
     "output_type": "stream",
     "text": [
      "array('i', [62, 5, 42])\n",
      "array('i', [2, 5, 62])\n"
     ]
    }
   ],
   "source": [
    "import array as arr\n",
    "\n",
    "numbers_list = [2, 5, 62, 5, 42, 52, 48, 5]\n",
    "numbers_array = arr.array('i', numbers_list)\n",
    "\n",
    "print(numbers_array[2:5])\n",
    "print(numbers_array[: -5])"
   ]
  },
  {
   "cell_type": "code",
   "execution_count": 31,
   "id": "30ca5620-7702-4869-b464-1ddb02cb14a9",
   "metadata": {},
   "outputs": [
    {
     "name": "stdout",
     "output_type": "stream",
     "text": [
      "array('i', [0, 2, 3, 5, 7, 10])\n",
      "array('i', [0, 2, 4, 6, 8, 10])\n"
     ]
    }
   ],
   "source": [
    "import array as arr\n",
    "\n",
    "numbers = arr.array('i', [1, 2, 3, 5, 7, 10])\n",
    "numbers[0] = 0\n",
    "print(numbers)\n",
    "numbers[2:5] = arr.array('i', [4, 6, 8]) \n",
    "print(numbers)"
   ]
  },
  {
   "cell_type": "code",
   "execution_count": 32,
   "id": "2543f332-66bb-4e03-acca-e72f599e4f2a",
   "metadata": {},
   "outputs": [
    {
     "name": "stdout",
     "output_type": "stream",
     "text": [
      "array('i', [0, 2, 4, 6, 8, 10, 11, 12, 13])\n"
     ]
    }
   ],
   "source": [
    "numbers.append(11)\n",
    "numbers.extend([12,13])\n",
    "print(numbers)"
   ]
  },
  {
   "cell_type": "code",
   "execution_count": 33,
   "id": "44837a19-9b4e-43f8-bb68-238c86d4617d",
   "metadata": {},
   "outputs": [
    {
     "name": "stdout",
     "output_type": "stream",
     "text": [
      "array('i', [1, 2, 3, 4])\n",
      "array('i', [1, 2, 3])\n"
     ]
    }
   ],
   "source": [
    "number = arr.array('i', [1, 2, 3, 3, 4])\n",
    "del number[2] \n",
    "print(number)\n",
    "number.remove(4)\n",
    "print(number) \n",
    "del number"
   ]
  },
  {
   "cell_type": "code",
   "execution_count": 35,
   "id": "a0f63e81-b53e-4954-aff3-7cd24222c44e",
   "metadata": {},
   "outputs": [
    {
     "data": {
      "text/plain": [
       "array('b', [1, 2, 3])"
      ]
     },
     "execution_count": 35,
     "metadata": {},
     "output_type": "execute_result"
    }
   ],
   "source": [
    "import array as arr\n",
    "number = arr.array('b', [1,2,3])\n",
    "number"
   ]
  },
  {
   "cell_type": "code",
   "execution_count": null,
   "id": "d06ac6cc-76d6-4017-981e-80b5cfc61465",
   "metadata": {},
   "outputs": [],
   "source": []
  }
 ],
 "metadata": {
  "kernelspec": {
   "display_name": "Python 3 (ipykernel)",
   "language": "python",
   "name": "python3"
  },
  "language_info": {
   "codemirror_mode": {
    "name": "ipython",
    "version": 3
   },
   "file_extension": ".py",
   "mimetype": "text/x-python",
   "name": "python",
   "nbconvert_exporter": "python",
   "pygments_lexer": "ipython3",
   "version": "3.12.4"
  }
 },
 "nbformat": 4,
 "nbformat_minor": 5
}
